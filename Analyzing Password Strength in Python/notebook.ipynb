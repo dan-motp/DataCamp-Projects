{
 "cells": [
  {
   "cell_type": "markdown",
   "metadata": {
    "dc": {
     "key": "3"
    },
    "deletable": false,
    "editable": false,
    "run_control": {
     "frozen": true
    },
    "tags": [
     "context"
    ]
   },
   "source": [
    "## # Introduction\n",
    "<p><img src=\"https://i.imgur.com/kjWF1So.jpg\" alt=\"Different characters on a computer screen\"></p>\n",
    "<p>According to a 2019 <a href=\"https://storage.googleapis.com/gweb-uniblog-publish-prod/documents/PasswordCheckup-HarrisPoll-InfographicFINAL.pdf\">Google / Harris Poll</a>, 24% of Americans have used common passwords, like <code>abc123</code>, <code>Password</code>, and <code>Admin</code>. Even more concerning, 59% of Americans have incorporated personal information, such as their name or birthday, into their password. This makes it unsurprising that 4 in 10 Americans have had their personal information compromised online. Passwords with commonly used phrases and personal information makes cracking a password drastically easier.</p>\n",
    "<p>You may have noticed over the years that password requirements have increased in complexity, including recommendations to change your passwords every couple of months. Compiled from industry recommendations, below is a list of passwords requirements you will be asked to test: </p>\n",
    "<p><strong>Password Requirments:</strong></p>\n",
    "<ol>\n",
    "<li>Must be at least 10 characters in length</li>\n",
    "<li>Must contain at least:<ul>\n",
    "<li>one lower case letter </li>\n",
    "<li>one upper case letter </li>\n",
    "<li>one numeric character </li>\n",
    "<li>one special character from this list: ~!@#/$%^&#x26;*()-+={}[]|;:&#x3C;&#x3E;,./?</li></ul></li>\n",
    "<li>Must not contain the phrase <code>password</code> (case insensitive)</li>\n",
    "<li>Must not contain the user's first or last name, e.g., if the user's name is <code>John Smith</code>, then <code>SmItH876!</code> is not a valid password.</li>\n",
    "</ol>\n",
    "<p>Here is the dataset that you will investigate this project:</p>\n",
    "<div style=\"background-color: #ebf4f7; color: #595959; text-align:left; vertical-align: middle; padding: 15px 25px 15px 25px; line-height: 1.6;\">\n",
    "    <div style=\"font-size:20px\"><b>datasets/logins.csv</b></div>\n",
    "Each row represents a login credential. There are no missing values and you can consider the dataset \"clean\".\n",
    "<ul>\n",
    "    <li><b>id:</b> the user's unique ID.</li>\n",
    "    <li><b>username:</b> the username with the format {firstname}.{lastname}.</li>\n",
    "    <li><b>password:</b> the password that may or may not meet the requirements. <i>Note, passwords should never be saved in plaintext, always encrypt them when working with real live passwords!</i></li>\n",
    "</ul>\n",
    "</div>\n",
    "<p>Warning: This dataset contains some <strong>real</strong> passwords leaked from <strong>real</strong> websites. These passwords have been filtered, but may still include words that are explicit and offensive.</p>\n",
    "<p>From here on out, it will be your task to explore and manipulate the existing data until you can answer the two questions described in the instructions panel. Feel free to import as many packages as you need to complete your task, and add cells as necessary. Finally, remember that you are only tested on your answer, not on the methods you use to arrive at the answer!</p>\n",
    "<p><strong>Note:</strong> To complete this project, you need to know how to manipulate strings in pandas DataFrames and be familiar with regular expressions. Before starting this project we recommend that you have completed the following courses: <a href=\"https://learn.datacamp.com/courses/data-cleaning-in-python\">Data Cleaning in Python</a> and <a href=\"https://learn.datacamp.com/courses/regular-expressions-in-python\">Regular Expressions in Python</a>.</p>"
   ]
  },
  {
   "cell_type": "markdown",
   "metadata": {},
   "source": [
    "## Requirement 1:\n",
    "Must be at least 10 characters in length"
   ]
  },
  {
   "cell_type": "code",
   "execution_count": 1,
   "metadata": {
    "dc": {
     "key": "3"
    },
    "tags": [
     "sample_code"
    ]
   },
   "outputs": [
    {
     "name": "stdout",
     "output_type": "stream",
     "text": [
      "      id         username                  password\n",
      "977  978    autumn.alford                  pink3602\n",
      "978  979    miriam.haynes  Gizzard.Muse+Patters_857\n",
      "979  980     genaro.russo             Rm3OwUfobjYxq\n",
      "980  981       lora.quinn                   bn#_k:}\n",
      "981  982  elmer.mccormick              IzXEo2ghZBJm\n"
     ]
    }
   ],
   "source": [
    "import pandas as pd\n",
    "\n",
    "logins= pd.read_csv(\"datasets/logins.csv\")\n",
    "\n",
    "print(logins.tail())"
   ]
  },
  {
   "cell_type": "code",
   "execution_count": 2,
   "metadata": {},
   "outputs": [
    {
     "name": "stdout",
     "output_type": "stream",
     "text": [
      "      id         username                  password\n",
      "975  976     freeman.rose              cHw2Leth5JXY\n",
      "976  977    monica.flores               *;~a8dq5%s'\n",
      "978  979    miriam.haynes  Gizzard.Muse+Patters_857\n",
      "979  980     genaro.russo             Rm3OwUfobjYxq\n",
      "981  982  elmer.mccormick              IzXEo2ghZBJm\n"
     ]
    }
   ],
   "source": [
    "length_check = logins['password'].str.len() >= 10\n",
    "\n",
    "valid_pws = logins[length_check]\n",
    "bad_pws = logins[~length_check]\n",
    "\n",
    "print(valid_pws.tail())"
   ]
  },
  {
   "cell_type": "markdown",
   "metadata": {},
   "source": [
    "## Requirement 2:\n",
    "Must contain at least:\n",
    "    * one lower case letter\n",
    "    * one upper case letter\n",
    "    * one numeric character\n",
    "    * one special character from this list: ~!@#/$%^&*()-+={}[]|;:<>,./?"
   ]
  },
  {
   "cell_type": "code",
   "execution_count": 3,
   "metadata": {},
   "outputs": [],
   "source": [
    "# Creating a boolean index for each character requirement\n",
    "lcase = valid_pws['password'].str.contains('[a-z]')\n",
    "ucase = valid_pws['password'].str.contains('[A-Z]')\n",
    "numeric = valid_pws['password'].str.contains('[0-9]')\n",
    "special = valid_pws['password'].str.contains('[~!@#/$%^&*()-+={}[]|;:<>,./?]')"
   ]
  },
  {
   "cell_type": "code",
   "execution_count": 4,
   "metadata": {},
   "outputs": [],
   "source": [
    "char_check = lcase & ucase & numeric & special\n",
    "\n",
    "bad_pws = bad_pws._append(valid_pws[~char_check], ignore_index=True)\n",
    "\n",
    "valid_pws = valid_pws[char_check]"
   ]
  },
  {
   "cell_type": "code",
   "execution_count": 5,
   "metadata": {
    "scrolled": true
   },
   "outputs": [
    {
     "data": {
      "text/html": [
       "<div>\n",
       "<style scoped>\n",
       "    .dataframe tbody tr th:only-of-type {\n",
       "        vertical-align: middle;\n",
       "    }\n",
       "\n",
       "    .dataframe tbody tr th {\n",
       "        vertical-align: top;\n",
       "    }\n",
       "\n",
       "    .dataframe thead th {\n",
       "        text-align: right;\n",
       "    }\n",
       "</style>\n",
       "<table border=\"1\" class=\"dataframe\">\n",
       "  <thead>\n",
       "    <tr style=\"text-align: right;\">\n",
       "      <th></th>\n",
       "      <th>id</th>\n",
       "      <th>username</th>\n",
       "      <th>password</th>\n",
       "    </tr>\n",
       "  </thead>\n",
       "  <tbody>\n",
       "    <tr>\n",
       "      <th>966</th>\n",
       "      <td>967</td>\n",
       "      <td>taylor.kent</td>\n",
       "      <td>&gt;L0/d\"8=omzy</td>\n",
       "    </tr>\n",
       "    <tr>\n",
       "      <th>970</th>\n",
       "      <td>971</td>\n",
       "      <td>noel.montoya</td>\n",
       "      <td>Riskier:Spikes_Grasped=27</td>\n",
       "    </tr>\n",
       "    <tr>\n",
       "      <th>971</th>\n",
       "      <td>972</td>\n",
       "      <td>josef.hoffman</td>\n",
       "      <td>Unhidden-Flatus*753-Figurer</td>\n",
       "    </tr>\n",
       "    <tr>\n",
       "      <th>972</th>\n",
       "      <td>973</td>\n",
       "      <td>jorge.patrick</td>\n",
       "      <td>Freedom_85!</td>\n",
       "    </tr>\n",
       "    <tr>\n",
       "      <th>978</th>\n",
       "      <td>979</td>\n",
       "      <td>miriam.haynes</td>\n",
       "      <td>Gizzard.Muse+Patters_857</td>\n",
       "    </tr>\n",
       "  </tbody>\n",
       "</table>\n",
       "</div>"
      ],
      "text/plain": [
       "      id       username                     password\n",
       "966  967    taylor.kent                 >L0/d\"8=omzy\n",
       "970  971   noel.montoya    Riskier:Spikes_Grasped=27\n",
       "971  972  josef.hoffman  Unhidden-Flatus*753-Figurer\n",
       "972  973  jorge.patrick                  Freedom_85!\n",
       "978  979  miriam.haynes     Gizzard.Muse+Patters_857"
      ]
     },
     "execution_count": 5,
     "metadata": {},
     "output_type": "execute_result"
    }
   ],
   "source": [
    "valid_pws.tail()"
   ]
  },
  {
   "cell_type": "markdown",
   "metadata": {},
   "source": [
    "## Requirement 3:\n",
    "Must not contain the phrase password (case insensitive)"
   ]
  },
  {
   "cell_type": "code",
   "execution_count": 6,
   "metadata": {},
   "outputs": [],
   "source": [
    "banned_phrases = valid_pws['password'].str.contains('password', case=False)\n",
    "bad_pws = bad_pws._append(valid_pws[banned_phrases], ignore_index=True)\n",
    "valid_pws = valid_pws[~banned_phrases]"
   ]
  },
  {
   "cell_type": "code",
   "execution_count": 7,
   "metadata": {
    "scrolled": true
   },
   "outputs": [
    {
     "data": {
      "text/html": [
       "<div>\n",
       "<style scoped>\n",
       "    .dataframe tbody tr th:only-of-type {\n",
       "        vertical-align: middle;\n",
       "    }\n",
       "\n",
       "    .dataframe tbody tr th {\n",
       "        vertical-align: top;\n",
       "    }\n",
       "\n",
       "    .dataframe thead th {\n",
       "        text-align: right;\n",
       "    }\n",
       "</style>\n",
       "<table border=\"1\" class=\"dataframe\">\n",
       "  <thead>\n",
       "    <tr style=\"text-align: right;\">\n",
       "      <th></th>\n",
       "      <th>id</th>\n",
       "      <th>username</th>\n",
       "      <th>password</th>\n",
       "    </tr>\n",
       "  </thead>\n",
       "  <tbody>\n",
       "    <tr>\n",
       "      <th>966</th>\n",
       "      <td>967</td>\n",
       "      <td>taylor.kent</td>\n",
       "      <td>&gt;L0/d\"8=omzy</td>\n",
       "    </tr>\n",
       "    <tr>\n",
       "      <th>970</th>\n",
       "      <td>971</td>\n",
       "      <td>noel.montoya</td>\n",
       "      <td>Riskier:Spikes_Grasped=27</td>\n",
       "    </tr>\n",
       "    <tr>\n",
       "      <th>971</th>\n",
       "      <td>972</td>\n",
       "      <td>josef.hoffman</td>\n",
       "      <td>Unhidden-Flatus*753-Figurer</td>\n",
       "    </tr>\n",
       "    <tr>\n",
       "      <th>972</th>\n",
       "      <td>973</td>\n",
       "      <td>jorge.patrick</td>\n",
       "      <td>Freedom_85!</td>\n",
       "    </tr>\n",
       "    <tr>\n",
       "      <th>978</th>\n",
       "      <td>979</td>\n",
       "      <td>miriam.haynes</td>\n",
       "      <td>Gizzard.Muse+Patters_857</td>\n",
       "    </tr>\n",
       "  </tbody>\n",
       "</table>\n",
       "</div>"
      ],
      "text/plain": [
       "      id       username                     password\n",
       "966  967    taylor.kent                 >L0/d\"8=omzy\n",
       "970  971   noel.montoya    Riskier:Spikes_Grasped=27\n",
       "971  972  josef.hoffman  Unhidden-Flatus*753-Figurer\n",
       "972  973  jorge.patrick                  Freedom_85!\n",
       "978  979  miriam.haynes     Gizzard.Muse+Patters_857"
      ]
     },
     "execution_count": 7,
     "metadata": {},
     "output_type": "execute_result"
    }
   ],
   "source": [
    "valid_pws.tail()"
   ]
  },
  {
   "cell_type": "markdown",
   "metadata": {},
   "source": [
    "## Requirement 4:\n",
    "Must not contain the user's first or last name, e.g., if the user's name is John Smith, then SmItH876! is not a valid password."
   ]
  },
  {
   "cell_type": "code",
   "execution_count": 8,
   "metadata": {},
   "outputs": [],
   "source": [
    "# Using regex '(^\\w+)' to match 1 or more word characters (same as [a-zA-Z0-9_]+ ).\n",
    "valid_pws['first_name'] = valid_pws['username'].str.extract('(^\\w+)', expand=False)\n",
    "\n",
    "valid_pws['last_name'] = valid_pws['username'].str.extract('(\\w+$)', expand=False)"
   ]
  },
  {
   "cell_type": "code",
   "execution_count": 9,
   "metadata": {},
   "outputs": [],
   "source": [
    "for i, row in valid_pws.iterrows():\n",
    "    if row.first_name in row.password.lower() or row.last_name in row.password.lower():\n",
    "        valid_pws = valid_pws.drop(index=i)\n",
    "        bad_pws = bad_pws._append(row, ignore_index=True)"
   ]
  },
  {
   "cell_type": "code",
   "execution_count": 10,
   "metadata": {},
   "outputs": [
    {
     "name": "stdout",
     "output_type": "stream",
     "text": [
      "Percentage of users with invalid passwords: 0.78\n",
      "Usernames with invalid passwords: \n",
      " 405         abdul.rowland\n",
      "309          addie.cherry\n",
      "372          adele.moreno\n",
      "526          adeline.bush\n",
      "279           adolfo.kane\n",
      "              ...        \n",
      "232          yvonne.munoz\n",
      "571    zachariah.jacobson\n",
      "264          zachary.huff\n",
      "172          zelma.abbott\n",
      "49          zelma.rosario\n",
      "Name: username, Length: 763, dtype: object\n"
     ]
    }
   ],
   "source": [
    "bad_pass = round(bad_pws.shape[0] / logins.shape[0], 2)\n",
    "print(\"Percentage of users with invalid passwords:\", bad_pass)\n",
    "\n",
    "email_list = bad_pws['username'].sort_values()\n",
    "print(\"Usernames with invalid passwords: \\n\", email_list)"
   ]
  }
 ],
 "metadata": {
  "kernelspec": {
   "display_name": "Python 3 (ipykernel)",
   "language": "python",
   "name": "python3"
  },
  "language_info": {
   "codemirror_mode": {
    "name": "ipython",
    "version": 3
   },
   "file_extension": ".py",
   "mimetype": "text/x-python",
   "name": "python",
   "nbconvert_exporter": "python",
   "pygments_lexer": "ipython3",
   "version": "3.11.7"
  }
 },
 "nbformat": 4,
 "nbformat_minor": 4
}
